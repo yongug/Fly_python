{
  "nbformat": 4,
  "nbformat_minor": 0,
  "metadata": {
    "colab": {
      "provenance": [],
      "authorship_tag": "ABX9TyMG78fiyI/IOxOh3TsZI7Y6",
      "include_colab_link": true
    },
    "kernelspec": {
      "name": "python3",
      "display_name": "Python 3"
    },
    "language_info": {
      "name": "python"
    }
  },
  "cells": [
    {
      "cell_type": "markdown",
      "metadata": {
        "id": "view-in-github",
        "colab_type": "text"
      },
      "source": [
        "<a href=\"https://colab.research.google.com/github/yongug/Fly_python/blob/main/1_LLM.ipynb\" target=\"_parent\"><img src=\"https://colab.research.google.com/assets/colab-badge.svg\" alt=\"Open In Colab\"/></a>"
      ]
    },
    {
      "cell_type": "code",
      "execution_count": 2,
      "metadata": {
        "colab": {
          "base_uri": "https://localhost:8080/"
        },
        "id": "dJDzkz5BIdky",
        "outputId": "795a5880-75c2-494c-c61b-4afb5b38cd56"
      },
      "outputs": [
        {
          "output_type": "stream",
          "name": "stdout",
          "text": [
            "Collecting openai\n",
            "  Downloading openai-1.39.0-py3-none-any.whl.metadata (22 kB)\n",
            "Requirement already satisfied: anyio<5,>=3.5.0 in /usr/local/lib/python3.10/dist-packages (from openai) (3.7.1)\n",
            "Requirement already satisfied: distro<2,>=1.7.0 in /usr/lib/python3/dist-packages (from openai) (1.7.0)\n",
            "Collecting httpx<1,>=0.23.0 (from openai)\n",
            "  Downloading httpx-0.27.0-py3-none-any.whl.metadata (7.2 kB)\n",
            "Requirement already satisfied: pydantic<3,>=1.9.0 in /usr/local/lib/python3.10/dist-packages (from openai) (2.8.2)\n",
            "Requirement already satisfied: sniffio in /usr/local/lib/python3.10/dist-packages (from openai) (1.3.1)\n",
            "Requirement already satisfied: tqdm>4 in /usr/local/lib/python3.10/dist-packages (from openai) (4.66.4)\n",
            "Requirement already satisfied: typing-extensions<5,>=4.7 in /usr/local/lib/python3.10/dist-packages (from openai) (4.12.2)\n",
            "Requirement already satisfied: idna>=2.8 in /usr/local/lib/python3.10/dist-packages (from anyio<5,>=3.5.0->openai) (3.7)\n",
            "Requirement already satisfied: exceptiongroup in /usr/local/lib/python3.10/dist-packages (from anyio<5,>=3.5.0->openai) (1.2.2)\n",
            "Requirement already satisfied: certifi in /usr/local/lib/python3.10/dist-packages (from httpx<1,>=0.23.0->openai) (2024.7.4)\n",
            "Collecting httpcore==1.* (from httpx<1,>=0.23.0->openai)\n",
            "  Downloading httpcore-1.0.5-py3-none-any.whl.metadata (20 kB)\n",
            "Collecting h11<0.15,>=0.13 (from httpcore==1.*->httpx<1,>=0.23.0->openai)\n",
            "  Downloading h11-0.14.0-py3-none-any.whl.metadata (8.2 kB)\n",
            "Requirement already satisfied: annotated-types>=0.4.0 in /usr/local/lib/python3.10/dist-packages (from pydantic<3,>=1.9.0->openai) (0.7.0)\n",
            "Requirement already satisfied: pydantic-core==2.20.1 in /usr/local/lib/python3.10/dist-packages (from pydantic<3,>=1.9.0->openai) (2.20.1)\n",
            "Downloading openai-1.39.0-py3-none-any.whl (336 kB)\n",
            "\u001b[2K   \u001b[90m━━━━━━━━━━━━━━━━━━━━━━━━━━━━━━━━━━━━━━━━\u001b[0m \u001b[32m336.7/336.7 kB\u001b[0m \u001b[31m6.2 MB/s\u001b[0m eta \u001b[36m0:00:00\u001b[0m\n",
            "\u001b[?25hDownloading httpx-0.27.0-py3-none-any.whl (75 kB)\n",
            "\u001b[2K   \u001b[90m━━━━━━━━━━━━━━━━━━━━━━━━━━━━━━━━━━━━━━━━\u001b[0m \u001b[32m75.6/75.6 kB\u001b[0m \u001b[31m5.2 MB/s\u001b[0m eta \u001b[36m0:00:00\u001b[0m\n",
            "\u001b[?25hDownloading httpcore-1.0.5-py3-none-any.whl (77 kB)\n",
            "\u001b[2K   \u001b[90m━━━━━━━━━━━━━━━━━━━━━━━━━━━━━━━━━━━━━━━━\u001b[0m \u001b[32m77.9/77.9 kB\u001b[0m \u001b[31m6.3 MB/s\u001b[0m eta \u001b[36m0:00:00\u001b[0m\n",
            "\u001b[?25hDownloading h11-0.14.0-py3-none-any.whl (58 kB)\n",
            "\u001b[2K   \u001b[90m━━━━━━━━━━━━━━━━━━━━━━━━━━━━━━━━━━━━━━━━\u001b[0m \u001b[32m58.3/58.3 kB\u001b[0m \u001b[31m4.7 MB/s\u001b[0m eta \u001b[36m0:00:00\u001b[0m\n",
            "\u001b[?25hInstalling collected packages: h11, httpcore, httpx, openai\n",
            "Successfully installed h11-0.14.0 httpcore-1.0.5 httpx-0.27.0 openai-1.39.0\n",
            "Requirement already satisfied: langchain in /usr/local/lib/python3.10/dist-packages (0.2.12)\n",
            "Requirement already satisfied: PyYAML>=5.3 in /usr/local/lib/python3.10/dist-packages (from langchain) (6.0.1)\n",
            "Requirement already satisfied: SQLAlchemy<3,>=1.4 in /usr/local/lib/python3.10/dist-packages (from langchain) (2.0.31)\n",
            "Requirement already satisfied: aiohttp<4.0.0,>=3.8.3 in /usr/local/lib/python3.10/dist-packages (from langchain) (3.10.0)\n",
            "Requirement already satisfied: async-timeout<5.0.0,>=4.0.0 in /usr/local/lib/python3.10/dist-packages (from langchain) (4.0.3)\n",
            "Requirement already satisfied: langchain-core<0.3.0,>=0.2.27 in /usr/local/lib/python3.10/dist-packages (from langchain) (0.2.28)\n",
            "Requirement already satisfied: langchain-text-splitters<0.3.0,>=0.2.0 in /usr/local/lib/python3.10/dist-packages (from langchain) (0.2.2)\n",
            "Requirement already satisfied: langsmith<0.2.0,>=0.1.17 in /usr/local/lib/python3.10/dist-packages (from langchain) (0.1.96)\n",
            "Requirement already satisfied: numpy<2,>=1 in /usr/local/lib/python3.10/dist-packages (from langchain) (1.26.4)\n",
            "Requirement already satisfied: pydantic<3,>=1 in /usr/local/lib/python3.10/dist-packages (from langchain) (2.8.2)\n",
            "Requirement already satisfied: requests<3,>=2 in /usr/local/lib/python3.10/dist-packages (from langchain) (2.31.0)\n",
            "Requirement already satisfied: tenacity!=8.4.0,<9.0.0,>=8.1.0 in /usr/local/lib/python3.10/dist-packages (from langchain) (8.5.0)\n",
            "Requirement already satisfied: aiohappyeyeballs>=2.3.0 in /usr/local/lib/python3.10/dist-packages (from aiohttp<4.0.0,>=3.8.3->langchain) (2.3.4)\n",
            "Requirement already satisfied: aiosignal>=1.1.2 in /usr/local/lib/python3.10/dist-packages (from aiohttp<4.0.0,>=3.8.3->langchain) (1.3.1)\n",
            "Requirement already satisfied: attrs>=17.3.0 in /usr/local/lib/python3.10/dist-packages (from aiohttp<4.0.0,>=3.8.3->langchain) (23.2.0)\n",
            "Requirement already satisfied: frozenlist>=1.1.1 in /usr/local/lib/python3.10/dist-packages (from aiohttp<4.0.0,>=3.8.3->langchain) (1.4.1)\n",
            "Requirement already satisfied: multidict<7.0,>=4.5 in /usr/local/lib/python3.10/dist-packages (from aiohttp<4.0.0,>=3.8.3->langchain) (6.0.5)\n",
            "Requirement already satisfied: yarl<2.0,>=1.0 in /usr/local/lib/python3.10/dist-packages (from aiohttp<4.0.0,>=3.8.3->langchain) (1.9.4)\n",
            "Requirement already satisfied: jsonpatch<2.0,>=1.33 in /usr/local/lib/python3.10/dist-packages (from langchain-core<0.3.0,>=0.2.27->langchain) (1.33)\n",
            "Requirement already satisfied: packaging<25,>=23.2 in /usr/local/lib/python3.10/dist-packages (from langchain-core<0.3.0,>=0.2.27->langchain) (24.1)\n",
            "Requirement already satisfied: typing-extensions>=4.7 in /usr/local/lib/python3.10/dist-packages (from langchain-core<0.3.0,>=0.2.27->langchain) (4.12.2)\n",
            "Requirement already satisfied: orjson<4.0.0,>=3.9.14 in /usr/local/lib/python3.10/dist-packages (from langsmith<0.2.0,>=0.1.17->langchain) (3.10.6)\n",
            "Requirement already satisfied: annotated-types>=0.4.0 in /usr/local/lib/python3.10/dist-packages (from pydantic<3,>=1->langchain) (0.7.0)\n",
            "Requirement already satisfied: pydantic-core==2.20.1 in /usr/local/lib/python3.10/dist-packages (from pydantic<3,>=1->langchain) (2.20.1)\n",
            "Requirement already satisfied: charset-normalizer<4,>=2 in /usr/local/lib/python3.10/dist-packages (from requests<3,>=2->langchain) (3.3.2)\n",
            "Requirement already satisfied: idna<4,>=2.5 in /usr/local/lib/python3.10/dist-packages (from requests<3,>=2->langchain) (3.7)\n",
            "Requirement already satisfied: urllib3<3,>=1.21.1 in /usr/local/lib/python3.10/dist-packages (from requests<3,>=2->langchain) (2.0.7)\n",
            "Requirement already satisfied: certifi>=2017.4.17 in /usr/local/lib/python3.10/dist-packages (from requests<3,>=2->langchain) (2024.7.4)\n",
            "Requirement already satisfied: greenlet!=0.4.17 in /usr/local/lib/python3.10/dist-packages (from SQLAlchemy<3,>=1.4->langchain) (3.0.3)\n",
            "Requirement already satisfied: jsonpointer>=1.9 in /usr/local/lib/python3.10/dist-packages (from jsonpatch<2.0,>=1.33->langchain-core<0.3.0,>=0.2.27->langchain) (3.0.0)\n",
            "Collecting langchain-community\n",
            "  Downloading langchain_community-0.2.11-py3-none-any.whl.metadata (2.7 kB)\n",
            "Requirement already satisfied: langchain-core in /usr/local/lib/python3.10/dist-packages (0.2.28)\n",
            "Requirement already satisfied: PyYAML>=5.3 in /usr/local/lib/python3.10/dist-packages (from langchain-community) (6.0.1)\n",
            "Requirement already satisfied: SQLAlchemy<3,>=1.4 in /usr/local/lib/python3.10/dist-packages (from langchain-community) (2.0.31)\n",
            "Requirement already satisfied: aiohttp<4.0.0,>=3.8.3 in /usr/local/lib/python3.10/dist-packages (from langchain-community) (3.10.0)\n",
            "Collecting dataclasses-json<0.7,>=0.5.7 (from langchain-community)\n",
            "  Downloading dataclasses_json-0.6.7-py3-none-any.whl.metadata (25 kB)\n",
            "Requirement already satisfied: langchain<0.3.0,>=0.2.12 in /usr/local/lib/python3.10/dist-packages (from langchain-community) (0.2.12)\n",
            "Requirement already satisfied: langsmith<0.2.0,>=0.1.0 in /usr/local/lib/python3.10/dist-packages (from langchain-community) (0.1.96)\n",
            "Requirement already satisfied: numpy<2,>=1 in /usr/local/lib/python3.10/dist-packages (from langchain-community) (1.26.4)\n",
            "Requirement already satisfied: requests<3,>=2 in /usr/local/lib/python3.10/dist-packages (from langchain-community) (2.31.0)\n",
            "Requirement already satisfied: tenacity!=8.4.0,<9.0.0,>=8.1.0 in /usr/local/lib/python3.10/dist-packages (from langchain-community) (8.5.0)\n",
            "Requirement already satisfied: jsonpatch<2.0,>=1.33 in /usr/local/lib/python3.10/dist-packages (from langchain-core) (1.33)\n",
            "Requirement already satisfied: packaging<25,>=23.2 in /usr/local/lib/python3.10/dist-packages (from langchain-core) (24.1)\n",
            "Requirement already satisfied: pydantic<3,>=1 in /usr/local/lib/python3.10/dist-packages (from langchain-core) (2.8.2)\n",
            "Requirement already satisfied: typing-extensions>=4.7 in /usr/local/lib/python3.10/dist-packages (from langchain-core) (4.12.2)\n",
            "Requirement already satisfied: aiohappyeyeballs>=2.3.0 in /usr/local/lib/python3.10/dist-packages (from aiohttp<4.0.0,>=3.8.3->langchain-community) (2.3.4)\n",
            "Requirement already satisfied: aiosignal>=1.1.2 in /usr/local/lib/python3.10/dist-packages (from aiohttp<4.0.0,>=3.8.3->langchain-community) (1.3.1)\n",
            "Requirement already satisfied: attrs>=17.3.0 in /usr/local/lib/python3.10/dist-packages (from aiohttp<4.0.0,>=3.8.3->langchain-community) (23.2.0)\n",
            "Requirement already satisfied: frozenlist>=1.1.1 in /usr/local/lib/python3.10/dist-packages (from aiohttp<4.0.0,>=3.8.3->langchain-community) (1.4.1)\n",
            "Requirement already satisfied: multidict<7.0,>=4.5 in /usr/local/lib/python3.10/dist-packages (from aiohttp<4.0.0,>=3.8.3->langchain-community) (6.0.5)\n",
            "Requirement already satisfied: yarl<2.0,>=1.0 in /usr/local/lib/python3.10/dist-packages (from aiohttp<4.0.0,>=3.8.3->langchain-community) (1.9.4)\n",
            "Requirement already satisfied: async-timeout<5.0,>=4.0 in /usr/local/lib/python3.10/dist-packages (from aiohttp<4.0.0,>=3.8.3->langchain-community) (4.0.3)\n",
            "Collecting marshmallow<4.0.0,>=3.18.0 (from dataclasses-json<0.7,>=0.5.7->langchain-community)\n",
            "  Downloading marshmallow-3.21.3-py3-none-any.whl.metadata (7.1 kB)\n",
            "Collecting typing-inspect<1,>=0.4.0 (from dataclasses-json<0.7,>=0.5.7->langchain-community)\n",
            "  Downloading typing_inspect-0.9.0-py3-none-any.whl.metadata (1.5 kB)\n",
            "Requirement already satisfied: jsonpointer>=1.9 in /usr/local/lib/python3.10/dist-packages (from jsonpatch<2.0,>=1.33->langchain-core) (3.0.0)\n",
            "Requirement already satisfied: langchain-text-splitters<0.3.0,>=0.2.0 in /usr/local/lib/python3.10/dist-packages (from langchain<0.3.0,>=0.2.12->langchain-community) (0.2.2)\n",
            "Requirement already satisfied: orjson<4.0.0,>=3.9.14 in /usr/local/lib/python3.10/dist-packages (from langsmith<0.2.0,>=0.1.0->langchain-community) (3.10.6)\n",
            "Requirement already satisfied: annotated-types>=0.4.0 in /usr/local/lib/python3.10/dist-packages (from pydantic<3,>=1->langchain-core) (0.7.0)\n",
            "Requirement already satisfied: pydantic-core==2.20.1 in /usr/local/lib/python3.10/dist-packages (from pydantic<3,>=1->langchain-core) (2.20.1)\n",
            "Requirement already satisfied: charset-normalizer<4,>=2 in /usr/local/lib/python3.10/dist-packages (from requests<3,>=2->langchain-community) (3.3.2)\n",
            "Requirement already satisfied: idna<4,>=2.5 in /usr/local/lib/python3.10/dist-packages (from requests<3,>=2->langchain-community) (3.7)\n",
            "Requirement already satisfied: urllib3<3,>=1.21.1 in /usr/local/lib/python3.10/dist-packages (from requests<3,>=2->langchain-community) (2.0.7)\n",
            "Requirement already satisfied: certifi>=2017.4.17 in /usr/local/lib/python3.10/dist-packages (from requests<3,>=2->langchain-community) (2024.7.4)\n",
            "Requirement already satisfied: greenlet!=0.4.17 in /usr/local/lib/python3.10/dist-packages (from SQLAlchemy<3,>=1.4->langchain-community) (3.0.3)\n",
            "Collecting mypy-extensions>=0.3.0 (from typing-inspect<1,>=0.4.0->dataclasses-json<0.7,>=0.5.7->langchain-community)\n",
            "  Downloading mypy_extensions-1.0.0-py3-none-any.whl.metadata (1.1 kB)\n",
            "Downloading langchain_community-0.2.11-py3-none-any.whl (2.3 MB)\n",
            "\u001b[2K   \u001b[90m━━━━━━━━━━━━━━━━━━━━━━━━━━━━━━━━━━━━━━━━\u001b[0m \u001b[32m2.3/2.3 MB\u001b[0m \u001b[31m23.5 MB/s\u001b[0m eta \u001b[36m0:00:00\u001b[0m\n",
            "\u001b[?25hDownloading dataclasses_json-0.6.7-py3-none-any.whl (28 kB)\n",
            "Downloading marshmallow-3.21.3-py3-none-any.whl (49 kB)\n",
            "\u001b[2K   \u001b[90m━━━━━━━━━━━━━━━━━━━━━━━━━━━━━━━━━━━━━━━━\u001b[0m \u001b[32m49.2/49.2 kB\u001b[0m \u001b[31m3.7 MB/s\u001b[0m eta \u001b[36m0:00:00\u001b[0m\n",
            "\u001b[?25hDownloading typing_inspect-0.9.0-py3-none-any.whl (8.8 kB)\n",
            "Downloading mypy_extensions-1.0.0-py3-none-any.whl (4.7 kB)\n",
            "Installing collected packages: mypy-extensions, marshmallow, typing-inspect, dataclasses-json, langchain-community\n",
            "Successfully installed dataclasses-json-0.6.7 langchain-community-0.2.11 marshmallow-3.21.3 mypy-extensions-1.0.0 typing-inspect-0.9.0\n"
          ]
        }
      ],
      "source": [
        "!pip install openai\n",
        "!pip install langchain\n",
        "!pip install langchain-community langchain-core"
      ]
    },
    {
      "cell_type": "code",
      "source": [
        "import os\n",
        "\n",
        "os.environ[\"OPENAI_API_KEY\"] = '64650e80fc9f42d28849c6a5f601d832'\n",
        "os.environ[\"OPENAI_API_TYPE\"] = 'azure'\n",
        "os.environ[\"OPENAI_API_VERSION\"] = '2023-05-15'\n",
        "os.environ[\"AZURE_OPENAI_ENDPOINT\"] = 'https://sktflyai.openai.azure.com'\n"
      ],
      "metadata": {
        "id": "T_70IEB5J3T7"
      },
      "execution_count": 6,
      "outputs": []
    },
    {
      "cell_type": "code",
      "source": [
        "from langchain.llms import AzureOpenAI\n",
        "\n",
        "#llm = AzureOpenAI(deployment_name='dev-davinci-002')\n",
        "llm = AzureOpenAI(deployment_name='dev-gpt-35-turbo-instruct')\n",
        "llm.invoke('Why python is the most popular language?')"
      ],
      "metadata": {
        "colab": {
          "base_uri": "https://localhost:8080/",
          "height": 257
        },
        "id": "nKy1-XDYLF25",
        "outputId": "3593f2f5-680f-433d-c3ec-b2681570ab29"
      },
      "execution_count": 8,
      "outputs": [
        {
          "output_type": "execute_result",
          "data": {
            "text/plain": [
              "\"\\n\\nThere are several reasons why Python is the most popular language:\\n\\n1. Easy to Learn and Use: Python has a simple and readable syntax, making it easy for beginners to learn and use. It also has a large and supportive community that offers resources and help to new users.\\n\\n2. Versatility: Python is a versatile language that can be used for a wide range of applications, such as web development, data analysis, machine learning, and scripting. This makes it a popular choice for many different types of projects.\\n\\n3. Large Standard Library: Python has a large standard library that provides a set of pre-written code modules that can be easily integrated into projects, saving developers time and effort.\\n\\n4. Open-source and Free: Python is an open-source language, which means it is free to use and modify. This makes it accessible to a wide range of users and encourages collaboration and innovation.\\n\\n5. Cross-platform Compatibility: Python can run on different operating systems, including Windows, Mac, and Linux, making it a versatile choice for developers.\\n\\n6. Strong Community and Support: Python has a large and active community of developers who contribute to the language's growth and development. This community offers support, resources, and tools for developers to use.\\n\\n7. Popular in Data Science and\""
            ],
            "application/vnd.google.colaboratory.intrinsic+json": {
              "type": "string"
            }
          },
          "metadata": {},
          "execution_count": 8
        }
      ]
    },
    {
      "cell_type": "code",
      "source": [
        "from langchain.chat_models import AzureChatOpenAI\n",
        "\n",
        "chat = AzureChatOpenAI(deployment_name='dev-gpt-35-turbo',temperature=1,max_tokens=500)\n",
        "chat.invoke('Why python is the most popular language? Answer the Korean')\n"
      ],
      "metadata": {
        "colab": {
          "base_uri": "https://localhost:8080/"
        },
        "id": "ueJhsdeCTfeM",
        "outputId": "3163d263-479d-4e1a-8659-4910148445cc"
      },
      "execution_count": 16,
      "outputs": [
        {
          "output_type": "execute_result",
          "data": {
            "text/plain": [
              "AIMessage(content='파이썬은 현재 가장 인기 있는 언어 중 하나인 이유는 여러 가지가 있습니다.\\n\\n첫째, 파이썬은 문법이 간단하고 읽기 쉬워 배우기 쉽습니다. 다른 프로그래밍 언어에 비해 더 적은 코드로 동일한 작업을 수행할 수 있어 생산성이 높습니다.\\n\\n둘째, 파이썬은 다양한 분야에서 사용될 수 있는 범용 프로그래밍 언어입니다. 데이터 분석, 인공지능, 웹 개발, 자동화, 게임 개발 등 다양한 분야에서 활용할 수 있어서 개발자들의 선택권이 많습니다.\\n\\n셋째, 파이썬은 개발 생태계가 풍부하고 커뮤니티가 활발합니다. 이미 많은 개발자들이 파이썬을 사용하고 있고, 많은 개방형 라이브러리와 도구들이 개발되어 있어 사용하기 편리합니다. 또한 파이썬을 배우면 다른 사람들과 지식을 공유하고 도움을 받을 수 있는 활발한 커뮤니티에 참여할 수 있습니다.\\n\\n마지막으로, 파이썬은 크로스 플랫폼 언어로 여러 운영체제에서 동작할 수 있습니다. 이는 파이썬 코드가 어떤 운영체제나 기기에서도 동작할 수 있어 유연성을 제공합니다.\\n\\n이러한 이유로 파이썬은 많은 사람들에게 인기를 끌고 있는 언어입니다.', response_metadata={'token_usage': {'completion_tokens': 491, 'prompt_tokens': 18, 'total_tokens': 509}, 'model_name': 'gpt-35-turbo', 'system_fingerprint': None, 'finish_reason': 'stop', 'logprobs': None}, id='run-352a9cd5-89f2-4e67-b86c-75f77c84ceea-0')"
            ]
          },
          "metadata": {},
          "execution_count": 16
        }
      ]
    },
    {
      "cell_type": "code",
      "source": [
        "from langchain.callbacks.streaming_stdout import StreamingStdOutCallbackHandler\n",
        "\n",
        "chat = AzureChatOpenAI(deployment_name='dev-gpt-35-turbo',streaming=True,callbacks=[StreamingStdOutCallbackHandler()])\n",
        "\n",
        "answer = chat.invoke('Why python is the most popular language? Answer the korean')"
      ],
      "metadata": {
        "colab": {
          "base_uri": "https://localhost:8080/"
        },
        "id": "sCQa9m9fT2JH",
        "outputId": "33b33603-e30a-469f-f2a1-db85682d3ae4"
      },
      "execution_count": 17,
      "outputs": [
        {
          "output_type": "stream",
          "name": "stdout",
          "text": [
            "파이썬은 가장 인기 있는 언어로 여겨지는 이유는 다음과 같습니다:\n",
            "\n",
            "1. 문법의 간결함: 파이썬은 간결한 문법을 가지고 있어 배우기 쉽고 읽기 쉽습니다. 이는 초보자들에게 이해하기 쉽고 생산성을 높여줍니다.\n",
            "\n",
            "2. 다양한 용도에 적합: 파이썬은 웹 개발, 데이터 분석, 인공지능, 기계 학습 등 다양한 분야에서 사용될 수 있습니다. 이러한 다양성은 파이썬을 선택하는 이유 중 하나입니다.\n",
            "\n",
            "3. 라이브러리와 생태계: 파이썬은 다양한 라이브러리와 모듈을 가지고 있어 개발자들이 작업을 단순화하고 생산성을 높일 수 있습니다. 또한, 파이썬의 생태계는 활발하게 발전하고 있으며 지속적으로 업데이트되고 개선되고 있습니다.\n",
            "\n",
            "4. 커뮤니티 지원: 파이썬은 전세계적으로 커뮤니티가 활발하게 활동하고 있습니다. 이러한 커뮤니티는 사용자들간의 지원과 협력을 도와주며, 새로운 아이디어와 도구를 공유합니다.\n",
            "\n",
            "5. 크로스 플랫폼 호환성: 파이썬은 윈도우, 맥, 리눅스 등 다양한 운영체제에서 작동합니다. 이는 파이썬을 다양한 환경에서 사용할 수 있게 해주는 장점입니다.\n",
            "\n",
            "이러한 이유들로 인해 파이썬은 많은 개발자들에게 인기가 있으며, 계속해서 인기를 유지하고 있습니다."
          ]
        }
      ]
    },
    {
      "cell_type": "code",
      "source": [
        "from langchain.schema import SystemMessage, AIMessage, HumanMessage\n",
        "\n",
        "message = [\n",
        "    SystemMessage(content='You are a kind helpful assistant.'),\n",
        "    HumanMessage(content='Why python is the most popular language? Answer the Korean')\n",
        "]\n",
        "\n",
        "answer = chat.invoke(message)"
      ],
      "metadata": {
        "colab": {
          "base_uri": "https://localhost:8080/"
        },
        "id": "AKpDWTAoWrRa",
        "outputId": "ffc0f0ff-fd7b-480b-cfd7-e42aaa522fe9"
      },
      "execution_count": 20,
      "outputs": [
        {
          "output_type": "stream",
          "name": "stdout",
          "text": [
            "Python은 가장 인기 있는 프로그래밍 언어로 평가되는 이유는 다양합니다. 첫째, Python은 배우기 쉽고 읽기 쉽습니다. 이 언어는 간결하고 직관적인 문법을 가지고 있어, 프로그래밍 초보자들도 쉽게 이해하고 활용할 수 있습니다.\n",
            "\n",
            "둘째, Python은 다양한 용도로 사용할 수 있습니다. 데이터 분석, 웹 개발, 인공지능, 자동화 등 다양한 분야에서 활용할 수 있는 고수준의 프로그래밍 언어입니다. 또한, Python은 다양한 라이브러리와 프레임워크가 풍부하게 제공되어 있어, 개발자들이 손쉽게 원하는 기능을 추가하고 사용할 수 있습니다.\n",
            "\n",
            "셋째, Python은 커뮤니티와 생태계가 발전되어 있습니다. 전 세계적으로 활발한 개발자 커뮤니티와 다양한 오픈 소스 프로젝트가 존재하여, 문제 해결과 지원에 있어서 많은 도움을 받을 수 있습니다.\n",
            "\n",
            "마지막으로, Python은 크로스 플랫폼 지원이 우수합니다. Windows, macOS, Linux 등 다양한 운영체제에서 동작하며, 이식성이 뛰어나기 때문에 개발 환경에 구애받지 않고 사용할 수 있습니다.\n",
            "\n",
            "이러한 이유들로 인해 Python은 많은 개발자들에게 사랑받고 있으며, 인기 있는 프로그래밍 언어로 평가되고 있습니다."
          ]
        }
      ]
    },
    {
      "cell_type": "code",
      "source": [
        "from langchain.schema import SystemMessage, AIMessage, HumanMessage\n",
        "\n",
        "message = [\n",
        "    SystemMessage(content='You are a kind helpful assistant the translates English to Korean'),\n",
        "    HumanMessage(content='I love Korea. I like kimchi rice')\n",
        "]\n",
        "\n",
        "answer = chat.invoke(message)"
      ],
      "metadata": {
        "colab": {
          "base_uri": "https://localhost:8080/"
        },
        "id": "xPstPnOkXxJy",
        "outputId": "cf47c095-48ee-40b5-c3f5-ea4b4f65c984"
      },
      "execution_count": 23,
      "outputs": [
        {
          "output_type": "stream",
          "name": "stdout",
          "text": [
            "나는 한국을 사랑해요. 저는 김치 볶음밥을 좋아해요."
          ]
        }
      ]
    },
    {
      "cell_type": "code",
      "source": [
        "message = [\n",
        "    SystemMessage(content='당신은 공부 계획을 세워주는 스터디 플래너이다. 주제를 입력받으면 공부 계획을 세워주세요'),\n",
        "    HumanMessage(content='Large Language Model에 대해 공부할래')\n",
        "]\n",
        "\n",
        "answer = chat.invoke(message)"
      ],
      "metadata": {
        "colab": {
          "base_uri": "https://localhost:8080/"
        },
        "id": "ZgEhUhTjX5bb",
        "outputId": "fa7bea44-dfcf-4aba-aaec-1e55feb94461"
      },
      "execution_count": 24,
      "outputs": [
        {
          "output_type": "stream",
          "name": "stdout",
          "text": [
            "주제: Large Language Model에 대한 공부 계획\n",
            "\n",
            "1. 개요 및 기본 개념 이해하기\n",
            "   - Large Language Model의 정의 및 역할 이해하기\n",
            "   - 주요 용어 및 개념 파악하기 (예: Transformer, GPT-3 등)\n",
            "\n",
            "2. Large Language Model의 구조와 작동 원리 이해하기\n",
            "   - Transformer 모델의 구조와 동작 방식 학습하기\n",
            "   - Pre-training과 Fine-tuning의 과정 이해하기\n",
            "\n",
            "3. 대표적인 Large Language Model 탐구하기\n",
            "   - GPT-3, BERT, XLNet 등 다양한 모델 살펴보기\n",
            "   - 각 모델의 특징, 장단점, 응용 분야 등 파악하기\n",
            "\n",
            "4. Large Language Model의 학습 데이터와 훈련 과정 이해하기\n",
            "   - 데이터 수집 및 전처리 과정 이해하기\n",
            "   - Pre-training 및 Fine-tuning의 과정 설명하기\n",
            "\n",
            "5. Large Language Model의 활용 및 응용 분야 탐구하기\n",
            "   - 자연어 이해, 기계 번역, 질의응답 시스템, 챗봇 등 다양한 응용 분야 살펴보기\n",
            "   - 실제 사례 및 적용 사례 분석하기\n",
            "\n",
            "6. 관련 논문과 자료 조사하기\n",
            "   - 최신 연구 동향과 관련 논문 탐구하기\n",
            "   - 관련 자료, 블로그, 기술 기사 등 참고 자료 조사하기\n",
            "\n",
            "7. 실습 및 프로젝트 구현하기\n",
            "   - Large Language Model을 활용한 실습 및 프로젝트 구현하기\n",
            "   - 데이터 수집, 모델 학습, 결과 분석 등을 포함한 프로젝트 진행하기\n",
            "\n",
            "8. 추가 학습 자료 및 커뮤니티 참여하기\n",
            "   - 관련 강의, 온라인 자료, 커뮤니티 등을 활용하여 추가적인 학습 진행하기\n",
            "   - 관련 토론 및 Q&A에 참여하여 지식 공유하기\n",
            "\n",
            "9. 복습 및 정리하기\n",
            "   - 공부한 내용을 복습하고 핵심 내용 정리하기\n",
            "   - 블로그나 메모 등을 활용하여 정리된 내용을 기록하기\n",
            "\n",
            "10. 실제 활용 및 응용하기\n",
            "    - 공부한 내용을 실제 프로젝트나 업무에 적용해보기\n",
            "    - 경험을 통해 실력을 향상시키고 개인적인 성장 도모하기"
          ]
        }
      ]
    },
    {
      "cell_type": "code",
      "source": [],
      "metadata": {
        "id": "X3-mLHZ-ZJxI"
      },
      "execution_count": null,
      "outputs": []
    }
  ]
}