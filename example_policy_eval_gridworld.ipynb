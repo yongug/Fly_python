{
  "cells": [
    {
      "cell_type": "markdown",
      "metadata": {
        "id": "view-in-github",
        "colab_type": "text"
      },
      "source": [
        "<a href=\"https://colab.research.google.com/github/yongug/Fly_python/blob/main/example_policy_eval_gridworld.ipynb\" target=\"_parent\"><img src=\"https://colab.research.google.com/assets/colab-badge.svg\" alt=\"Open In Colab\"/></a>"
      ]
    },
    {
      "cell_type": "markdown",
      "id": "abe37352-4a88-4c11-b7db-c14b3afb7599",
      "metadata": {
        "id": "abe37352-4a88-4c11-b7db-c14b3afb7599"
      },
      "source": [
        "# The Simple Gridworld Problem"
      ]
    },
    {
      "cell_type": "code",
      "execution_count": 29,
      "id": "4963df85-6833-4292-b163-a0971ae7c056",
      "metadata": {
        "colab": {
          "base_uri": "https://localhost:8080/"
        },
        "id": "4963df85-6833-4292-b163-a0971ae7c056",
        "outputId": "c63f3371-8a1b-4fd7-daff-519767aeeaaa"
      },
      "outputs": [
        {
          "output_type": "execute_result",
          "data": {
            "text/plain": [
              "(4, 12, 12)"
            ]
          },
          "metadata": {},
          "execution_count": 29
        }
      ],
      "source": [
        "import numpy as np\n",
        "\n",
        "P = np.array([\n",
        "    # up\n",
        "    [[1, 0, 0, 0, 0, 0, 0, 0, 0, 0, 0, 0],\n",
        "     [0, 1, 0, 0, 0, 0, 0, 0, 0, 0, 0, 0],\n",
        "     [0, 0, 1, 0, 0, 0, 0, 0, 0, 0, 0, 0],\n",
        "     [0, 0, 0, 1, 0, 0, 0, 0, 0, 0, 0, 0],\n",
        "     [1, 0, 0, 0, 0, 0, 0, 0, 0, 0, 0, 0],\n",
        "     [0, 0, 0, 0, 1, 0, 0, 0, 0, 0, 0, 0],\n",
        "     [0, 0, 0, 0, 0, 0, 1, 0, 0, 0, 0, 0],\n",
        "     [0, 0, 0, 0, 0, 1, 0, 0, 0, 0, 0, 0],\n",
        "     [0, 0, 0, 0, 0, 0, 1, 0, 0, 0, 0, 0],\n",
        "     [0, 0, 0, 0, 0, 0, 0, 0, 0, 1, 0, 0],\n",
        "     [0, 0, 0, 0, 0, 0, 0, 0, 0, 0, 0, 1],\n",
        "     [0, 0, 0, 0, 0, 0, 0, 0, 0, 0, 0, 1]],\n",
        "\n",
        "    # 0, 1, 2, 3, 4, 5, 6, 7, 8, 9, 10, 11\n",
        "    [[0, 0, 0, 0, 1, 0, 0, 0, 0, 0, 0, 0],\n",
        "     [0, 1, 0, 0, 0, 0, 0, 0, 0, 0, 0, 0],\n",
        "     [0, 0, 1, 0, 0, 0, 0, 0, 0, 0, 0, 0],\n",
        "     [0, 0, 0, 1, 0, 0, 0, 0, 0, 0, 0, 0],\n",
        "     [0, 0, 0, 0, 0, 1, 0, 0, 0, 0, 0, 0],\n",
        "     [0, 0, 0, 0, 0, 0, 0, 1, 0, 0, 0, 0],\n",
        "     [0, 0, 0, 0, 0, 0, 0, 0, 1, 0, 0, 0],\n",
        "     [0, 0, 0, 0, 0, 0, 0, 1, 0, 0, 0, 0],\n",
        "     [0, 0, 0, 0, 0, 0, 0, 0, 1, 0, 0, 0],\n",
        "     [0, 0, 0, 0, 0, 0, 0, 0, 0, 1, 0, 0],\n",
        "     [0, 0, 0, 0, 0, 0, 0, 0, 0, 0, 1, 0],\n",
        "     [0, 0, 0, 0, 0, 0, 0, 0, 0, 0, 0, 1]],\n",
        "\n",
        "\n",
        "    # 0, 1, 2, 3, 4, 5, 6, 7, 8, 9, 10, 11\n",
        "    [[1, 0, 0, 0, 0, 0, 0, 0, 0, 0, 0, 0],\n",
        "     [1, 0, 0, 0, 0, 0, 0, 0, 0, 0, 0, 0],\n",
        "     [0, 1, 0, 0, 0, 0, 0, 0, 0, 0, 0, 0],\n",
        "     [0, 0, 1, 0, 0, 0, 0, 0, 0, 0, 0, 0],\n",
        "     [0, 0, 0, 0, 1, 0, 0, 0, 0, 0, 0, 0],\n",
        "     [0, 0, 0, 0, 0, 1, 0, 0, 0, 0, 0, 0],\n",
        "     [0, 0, 0, 0, 0, 1, 0, 0, 0, 0, 0, 0],\n",
        "     [0, 0, 0, 0, 0, 0, 0, 1, 0, 0, 0, 0],\n",
        "     [0, 0, 0, 0, 0, 0, 0, 1, 0, 0, 0, 0],\n",
        "     [0, 0, 0, 0, 0, 0, 0, 0, 1, 0, 0, 0],\n",
        "     [0, 0, 0, 0, 0, 0, 0, 0, 0, 1, 0, 0],\n",
        "     [0, 0, 0, 0, 0, 0, 0, 0, 0, 0, 0, 1]],\n",
        "\n",
        "\n",
        "    # 0, 1, 2, 3, 4, 5, 6, 7, 8, 9, 10, 11  right\n",
        "    [[0, 1, 0, 0, 0, 0, 0, 0, 0, 0, 0, 0],\n",
        "     [0, 0, 1, 0, 0, 0, 0, 0, 0, 0, 0, 0],\n",
        "     [0, 0, 0, 1, 0, 0, 0, 0, 0, 0, 0, 0],\n",
        "     [0, 0, 0, 1, 0, 0, 0, 0, 0, 0, 0, 0],\n",
        "     [0, 0, 0, 0, 1, 0, 0, 0, 0, 0, 0, 0],\n",
        "     [0, 0, 0, 0, 0, 0, 1, 0, 0, 0, 0, 0],\n",
        "     [0, 0, 0, 0, 0, 0, 1, 0, 0, 0, 0, 0],\n",
        "     [0, 0, 0, 0, 0, 0, 0, 0, 1, 0, 0, 0],\n",
        "     [0, 0, 0, 0, 0, 0, 0, 0, 0, 1, 0, 0],\n",
        "     [0, 0, 0, 0, 0, 0, 0, 0, 0, 0, 1, 0],\n",
        "     [0, 0, 0, 0, 0, 0, 0, 0, 0, 0, 1, 0],\n",
        "     [0, 0, 0, 0, 0, 0, 0, 0, 0, 0, 0, 1]]], dtype='float32')\n",
        "\n",
        "P.shape"
      ]
    },
    {
      "cell_type": "code",
      "execution_count": 30,
      "id": "7a1e1a68-a51e-42a3-979a-2820637cdb46",
      "metadata": {
        "id": "7a1e1a68-a51e-42a3-979a-2820637cdb46"
      },
      "outputs": [],
      "source": [
        "P = P.transpose(1, 0, 2)"
      ]
    },
    {
      "cell_type": "code",
      "execution_count": 31,
      "id": "86b6143f-dd03-4c30-b617-0f1e38fe967b",
      "metadata": {
        "colab": {
          "base_uri": "https://localhost:8080/"
        },
        "id": "86b6143f-dd03-4c30-b617-0f1e38fe967b",
        "outputId": "d1b1a4de-f4c7-4add-ea53-774c8ee69ade"
      },
      "outputs": [
        {
          "output_type": "execute_result",
          "data": {
            "text/plain": [
              "(12, 4, 12)"
            ]
          },
          "metadata": {},
          "execution_count": 31
        }
      ],
      "source": [
        "P.shape"
      ]
    },
    {
      "cell_type": "code",
      "execution_count": 32,
      "id": "3ce09b51-cf71-4e8e-b520-57de84fa68ac",
      "metadata": {
        "tags": [],
        "id": "3ce09b51-cf71-4e8e-b520-57de84fa68ac"
      },
      "outputs": [],
      "source": [
        "R = np.array([\n",
        "    [-1, -1, -1, -1, -1, -1, -1, -1, -1, -1, 1, -1], # up\n",
        "    [-1, -1, -1, -1, -1, -1, -1, -1, -1, -1, -1, -1], # down\n",
        "    [-1, -1, -1, -1, -1, -1, -1, -1, -1, -1, -1, -1], # left\n",
        "    [-1, -1, -1, -1, -1, -1, -1, -1, -1, -1, -1, -1]], #right\n",
        "    dtype='float32')"
      ]
    },
    {
      "cell_type": "code",
      "execution_count": 33,
      "id": "b3e28746-7410-4bff-9536-4881de76bc7a",
      "metadata": {
        "colab": {
          "base_uri": "https://localhost:8080/"
        },
        "id": "b3e28746-7410-4bff-9536-4881de76bc7a",
        "outputId": "947bef37-e6fd-4a4c-81f0-38ad79e851f7"
      },
      "outputs": [
        {
          "output_type": "execute_result",
          "data": {
            "text/plain": [
              "(4, 12)"
            ]
          },
          "metadata": {},
          "execution_count": 33
        }
      ],
      "source": [
        "R.shape"
      ]
    },
    {
      "cell_type": "code",
      "execution_count": 34,
      "id": "55e5d7a5-5312-4313-8949-44d0b4564dc8",
      "metadata": {
        "id": "55e5d7a5-5312-4313-8949-44d0b4564dc8"
      },
      "outputs": [],
      "source": [
        "R = R.transpose()"
      ]
    },
    {
      "cell_type": "code",
      "execution_count": 35,
      "id": "ec0efe69-4c45-4a44-b4b9-e818b2d206a8",
      "metadata": {
        "colab": {
          "base_uri": "https://localhost:8080/"
        },
        "id": "ec0efe69-4c45-4a44-b4b9-e818b2d206a8",
        "outputId": "51305efb-15b6-4b8c-d047-dd73e09dd728"
      },
      "outputs": [
        {
          "output_type": "execute_result",
          "data": {
            "text/plain": [
              "(12, 4)"
            ]
          },
          "metadata": {},
          "execution_count": 35
        }
      ],
      "source": [
        "R.shape"
      ]
    },
    {
      "cell_type": "code",
      "execution_count": 36,
      "id": "9f13bbae-9c52-4ca5-92ea-8da4b2618604",
      "metadata": {
        "id": "9f13bbae-9c52-4ca5-92ea-8da4b2618604"
      },
      "outputs": [],
      "source": [
        "pi = np.ones((12, 4), dtype='float32') * 0.25"
      ]
    },
    {
      "cell_type": "code",
      "execution_count": 37,
      "id": "64a52d91-e7c2-46a2-bed7-b160d51423b1",
      "metadata": {
        "colab": {
          "base_uri": "https://localhost:8080/"
        },
        "id": "64a52d91-e7c2-46a2-bed7-b160d51423b1",
        "outputId": "97c42f97-d440-45d5-a4dc-248244a4bebe"
      },
      "outputs": [
        {
          "output_type": "execute_result",
          "data": {
            "text/plain": [
              "(12, 4)"
            ]
          },
          "metadata": {},
          "execution_count": 37
        }
      ],
      "source": [
        "pi.shape"
      ]
    },
    {
      "cell_type": "markdown",
      "id": "653cf068-a4fa-4c61-938b-03821f02b244",
      "metadata": {
        "id": "653cf068-a4fa-4c61-938b-03821f02b244"
      },
      "source": [
        "### In summary,"
      ]
    },
    {
      "cell_type": "code",
      "execution_count": 38,
      "id": "9621be64-6454-46d5-89c9-4a7159fbc40a",
      "metadata": {
        "colab": {
          "base_uri": "https://localhost:8080/"
        },
        "id": "9621be64-6454-46d5-89c9-4a7159fbc40a",
        "outputId": "af8a9159-b92d-47f7-9236-dc12660f7fe7"
      },
      "outputs": [
        {
          "output_type": "stream",
          "name": "stdout",
          "text": [
            "[[-2.4999158  -2.4996274  -2.4999158  -2.4999807 ]\n",
            " [-2.4999807  -2.4999807  -2.4999158  -2.4999952 ]\n",
            " [-2.4999952  -2.4999952  -2.4999807  -2.4999983 ]\n",
            " [-2.4999983  -2.4999983  -2.4999952  -2.4999983 ]\n",
            " [-2.4999158  -2.498346   -2.4996274  -2.4996274 ]\n",
            " [-2.4996274  -2.4955008  -2.498346   -2.4955008 ]\n",
            " [-2.4955008  -2.4806585  -2.498346   -2.4955008 ]\n",
            " [-2.498346   -2.4955008  -2.4955008  -2.4806585 ]\n",
            " [-2.4955008  -2.4806585  -2.4955008  -2.3993988 ]\n",
            " [-2.3993988  -2.3993988  -2.4806585  -2.049871  ]\n",
            " [-0.49999952 -2.049871   -2.3993988  -2.049871  ]\n",
            " [-2.4999995  -2.4999995  -2.4999995  -2.4999995 ]]\n",
            "[[-2.4440124  -2.4066875  -2.4440124  -2.4664073 ]\n",
            " [-2.4664073  -2.4664073  -2.4440124  -2.479844  ]\n",
            " [-2.479844   -2.479844   -2.4664073  -2.4879065 ]\n",
            " [-2.4879065  -2.4879065  -2.479844   -2.4879065 ]\n",
            " [-2.4440124  -2.3444796  -2.4066875  -2.4066875 ]\n",
            " [-2.4066875  -2.2407994  -2.3444796  -2.2407994 ]\n",
            " [-2.2407994  -2.0679994  -2.3444796  -2.2407994 ]\n",
            " [-2.3444796  -2.2407994  -2.2407994  -2.0679994 ]\n",
            " [-2.2407994  -2.0679994  -2.2407994  -1.7799995 ]\n",
            " [-1.7799995  -1.7799995  -2.0679994  -1.2999995 ]\n",
            " [-0.49999952 -1.2999995  -1.7799995  -1.2999995 ]\n",
            " [-2.4999995  -2.4999995  -2.4999995  -2.4999995 ]]\n",
            "[[0. 1. 0. 0.]\n",
            " [0. 0. 1. 0.]\n",
            " [0. 0. 1. 0.]\n",
            " [0. 0. 1. 0.]\n",
            " [0. 1. 0. 0.]\n",
            " [0. 1. 0. 0.]\n",
            " [0. 1. 0. 0.]\n",
            " [0. 0. 0. 1.]\n",
            " [0. 0. 0. 1.]\n",
            " [0. 0. 0. 1.]\n",
            " [1. 0. 0. 0.]\n",
            " [1. 0. 0. 0.]]\n"
          ]
        }
      ],
      "source": [
        "def policy_eval(P, R, pi, maxiter=30):\n",
        "    V = np.zeros((maxiter, 12), dtype='float32')\n",
        "\n",
        "    for i in range(maxiter-1):\n",
        "        V[i+1] = np.squeeze(\n",
        "            np.matmul(\n",
        "                np.expand_dims( pi, 1 ),\n",
        "                np.expand_dims( R + 0.6 * np.dot(P, V[i]), 2 )))\n",
        "\n",
        "    return V[maxiter-1]\n",
        "\n",
        "def policy_upd(P, R, v):\n",
        "    print(np.squeeze(np.expand_dims( R + 0.6 * np.dot(P, v), 2 )))\n",
        "    a_idx = np.argmax(np.squeeze(np.expand_dims( R + 0.6 * np.dot(P, v), 2 )), axis=1)\n",
        "    pi = np.zeros((12, 4), dtype='float32')\n",
        "    pi[range(12), a_idx] = 1.\n",
        "    return pi\n",
        "\n",
        "pi_old = None\n",
        "pi = np.ones((12, 4), dtype='float32') * 0.25\n",
        "\n",
        "while not np.all(np.equal(pi_old, pi)):\n",
        "    pi_old = pi.copy()\n",
        "    v = policy_eval(P, R, pi)\n",
        "    pi = policy_upd(P, R, v)\n",
        "\n",
        "print(pi)"
      ]
    },
    {
      "cell_type": "code",
      "execution_count": null,
      "id": "80c01550-0ecb-4586-9840-7e035a1136aa",
      "metadata": {
        "id": "80c01550-0ecb-4586-9840-7e035a1136aa"
      },
      "outputs": [],
      "source": []
    }
  ],
  "metadata": {
    "kernelspec": {
      "display_name": "Python 3 (ipykernel)",
      "language": "python",
      "name": "python3"
    },
    "language_info": {
      "codemirror_mode": {
        "name": "ipython",
        "version": 3
      },
      "file_extension": ".py",
      "mimetype": "text/x-python",
      "name": "python",
      "nbconvert_exporter": "python",
      "pygments_lexer": "ipython3",
      "version": "3.10.12"
    },
    "colab": {
      "provenance": [],
      "include_colab_link": true
    }
  },
  "nbformat": 4,
  "nbformat_minor": 5
}